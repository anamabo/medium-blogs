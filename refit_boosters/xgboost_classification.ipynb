{
 "cells": [
  {
   "cell_type": "code",
   "execution_count": 1,
   "id": "98345e35-ccbd-4f20-a547-90ec542bd276",
   "metadata": {},
   "outputs": [],
   "source": [
    "import numpy as np\n",
    "import pandas as pd\n",
    "import xgboost as xgb\n",
    "from sklearn.datasets import make_classification\n",
    "from sklearn.model_selection import train_test_split\n",
    "from sklearn.metrics import auc, average_precision_score, roc_curve\n",
    "from typing import Any, Dict, List, Optional, Tuple"
   ]
  },
  {
   "cell_type": "code",
   "execution_count": 2,
   "id": "59936a63-81cd-460c-ba2c-4594d9d11f8a",
   "metadata": {},
   "outputs": [],
   "source": [
    "random_seed = 42"
   ]
  },
  {
   "cell_type": "code",
   "execution_count": 3,
   "id": "cecd607c-8bd8-4f1b-8b49-8b915209cf75",
   "metadata": {},
   "outputs": [],
   "source": [
    "# Generate a dataset with 2 classes\n",
    "# flip_y=0.1, class_sep=0.6 make the dataset more realistic\n",
    "dataset, target = make_classification(n_samples=250000, n_features=20, n_informative=15, n_classes=2, random_state=random_seed,\n",
    "                                      flip_y=0.1, class_sep=0.6)\n",
    "X = pd.DataFrame(dataset)\n",
    "X.columns = X.columns.astype(str)\n",
    "y = target"
   ]
  },
  {
   "cell_type": "code",
   "execution_count": 4,
   "id": "0846959d-9755-461d-9485-a5728718ce95",
   "metadata": {},
   "outputs": [],
   "source": [
    "def create_train_validation_test_sets(\n",
    "    X: pd.DataFrame, y: np.array\n",
    ") -> Tuple[pd.DataFrame, pd.DataFrame, pd.DataFrame, np.ndarray, np.ndarray, np.ndarray]:\n",
    "    \"\"\"\n",
    "    Split the dataset into training, validation and testing sets.\n",
    "    Args:\n",
    "        X (pd.DataFrame): Feature matrix.\n",
    "        y (pd.Series): Labels.\n",
    "        test_size (float): Proportion of the dataset to include in the test split.\n",
    "    Returns:\n",
    "        Tuple: \n",
    "        X_train, y_train: Training set (60%)\n",
    "        X_val, y_val: Validation set (20%)\n",
    "        X_test, y_test: Test set (20%)\n",
    "    \"\"\"\n",
    "    X_train, X_temp, y_train, y_temp = train_test_split(X, y, test_size=0.4, random_state=42, stratify=y)\n",
    "    X_val, X_test, y_val, y_test = train_test_split(X_temp, y_temp, test_size=0.5, random_state=42, stratify=y_temp)\n",
    "    return X_train, X_val, X_test, y_train, y_val, y_test"
   ]
  },
  {
   "cell_type": "code",
   "execution_count": 5,
   "id": "757c2ea8-13d1-48f4-84b8-6f566d4f2294",
   "metadata": {},
   "outputs": [],
   "source": [
    "X_train, X_val, X_test, y_train, y_val, y_test = create_train_validation_test_sets(X, y)"
   ]
  },
  {
   "cell_type": "code",
   "execution_count": 6,
   "id": "21ce4dfa-16e6-484e-a151-ee69f33a7bae",
   "metadata": {},
   "outputs": [],
   "source": [
    "def train_model(\n",
    "    X_train: pd.DataFrame, y_train: np.ndarray\n",
    ") -> xgb.XGBClassifier:\n",
    "    \"\"\"\n",
    "    Train a XGBoost classifier.\n",
    "    \"\"\"\n",
    "    xgb_model = xgb.XGBClassifier(n_estimators=100, objective=\"binary:logistic\", eval_metric=\"logloss\", seed=random_seed)\n",
    "    xgb_model.fit(\n",
    "        X_train,\n",
    "        y_train,\n",
    "    )\n",
    "    return xgb_model"
   ]
  },
  {
   "cell_type": "code",
   "execution_count": 7,
   "id": "2d129bdc-eaca-45ec-948c-606f30f862d3",
   "metadata": {},
   "outputs": [],
   "source": [
    "def train_with_incremental_learning(\n",
    "    X_train: pd.DataFrame, y_train: np.ndarray, init_model: xgb.XGBClassifier\n",
    ") -> xgb.XGBClassifier:\n",
    "    xgb_refit = xgb.XGBClassifier(n_estimators=100, objective=\"binary:logistic\", eval_metric=\"logloss\", seed=random_seed)\n",
    "    xgb_refit.fit(\n",
    "        X_train,\n",
    "        y_train,\n",
    "        xgb_model=init_model\n",
    "    )\n",
    "    return xgb_refit"
   ]
  },
  {
   "cell_type": "code",
   "execution_count": 8,
   "id": "7b69757d-c5f5-4479-a0c3-27555e42948f",
   "metadata": {},
   "outputs": [],
   "source": [
    "def validation(predicted_y: np.ndarray, y_true: np.ndarray) -> Dict[str, Any]:\n",
    "    \"\"\"\n",
    "    Evaluate classification performance with various metrics.\n",
    "\n",
    "    Args:\n",
    "        predicted_y (np.ndarray): Predicted target\n",
    "        y_true (np.ndarray): Ground truth binary labels (bool).\n",
    "    Returns:\n",
    "        dict: A dictionary with metrics\n",
    "    \"\"\"\n",
    "    fpr, tpr, _ = roc_curve(y_true, predicted_y)\n",
    "    metrics = {\n",
    "        # \"log_loss\": metrics.log_loss(y, predictions_prob),\n",
    "        # \"brier_score\": metrics.brier_score_loss(y, predictions_prob),\n",
    "        \"auc\": auc(fpr, tpr),\n",
    "        \"pr_auc\": average_precision_score(y_true, predicted_y)\n",
    "    }\n",
    "    return metrics"
   ]
  },
  {
   "cell_type": "markdown",
   "id": "4a5bce69-4a78-4e05-90e2-55beb3609160",
   "metadata": {},
   "source": [
    "# Experiment 1: Training from scratch\n",
    "1. Train a Classification model using train + validation sets.\n",
    "2. Evaluate using test set."
   ]
  },
  {
   "cell_type": "code",
   "execution_count": 9,
   "id": "a1b9fa1a-a231-4e59-93a6-e31931e38ffe",
   "metadata": {},
   "outputs": [],
   "source": [
    "model = train_model(X_train=pd.concat([X_train, X_val]), y_train=np.concatenate([y_train, y_val]))"
   ]
  },
  {
   "cell_type": "code",
   "execution_count": 10,
   "id": "6946ecc9-687a-4991-8745-20ba933e1418",
   "metadata": {},
   "outputs": [],
   "source": [
    "predicted_target_train_val= model.predict(X_test)"
   ]
  },
  {
   "cell_type": "code",
   "execution_count": 11,
   "id": "233a8846-0c0a-4747-af25-54414069083a",
   "metadata": {},
   "outputs": [
    {
     "data": {
      "text/plain": [
       "{'auc': 0.9114589961252385, 'pr_auc': 0.8754824512362412}"
      ]
     },
     "execution_count": 11,
     "metadata": {},
     "output_type": "execute_result"
    }
   ],
   "source": [
    "validation(predicted_target_train_val, y_test)"
   ]
  },
  {
   "cell_type": "markdown",
   "id": "3f9635f9-cbef-41c9-ac73-131f605ab7e2",
   "metadata": {},
   "source": [
    "# Experiment 2: Incremental learning\n",
    "1. Train initial model using train set.\n",
    "2. Train model with incremental learning using validation set.\n",
    "3. Evaluate using test set."
   ]
  },
  {
   "cell_type": "code",
   "execution_count": 12,
   "id": "167a3e58-16d0-48c7-84d3-a4a674fa50ca",
   "metadata": {},
   "outputs": [],
   "source": [
    "model_train = train_model(X_train=X_train, y_train=y_train)"
   ]
  },
  {
   "cell_type": "code",
   "execution_count": 13,
   "id": "92c28a8b-f8b8-4db2-a8a2-1500242f3ca9",
   "metadata": {},
   "outputs": [],
   "source": [
    "predicted_target_train = model_train.predict(X_test)"
   ]
  },
  {
   "cell_type": "code",
   "execution_count": 14,
   "id": "145b866b-7684-43eb-87d2-07df4cd99546",
   "metadata": {},
   "outputs": [
    {
     "data": {
      "text/plain": [
       "{'auc': 0.9103395957222544, 'pr_auc': 0.8736598481435579}"
      ]
     },
     "execution_count": 14,
     "metadata": {},
     "output_type": "execute_result"
    }
   ],
   "source": [
    "validation(predicted_target_train, y_test)"
   ]
  },
  {
   "cell_type": "code",
   "execution_count": 15,
   "id": "a8ee0775-f2cd-4c43-98b7-7d59ee6e34f6",
   "metadata": {},
   "outputs": [],
   "source": [
    "model_refit_val = train_with_incremental_learning(X_train=X_val, y_train=y_val, init_model=model_train)"
   ]
  },
  {
   "cell_type": "code",
   "execution_count": 16,
   "id": "136264c4-dec0-4c26-a80c-d3237e646d79",
   "metadata": {},
   "outputs": [],
   "source": [
    "predicted_target_refit_val= model_refit_val.predict(X_test)"
   ]
  },
  {
   "cell_type": "code",
   "execution_count": 17,
   "id": "9d055103-342a-480f-b92b-64575a67a744",
   "metadata": {},
   "outputs": [
    {
     "data": {
      "text/plain": [
       "{'auc': 0.9090790072684426, 'pr_auc': 0.8723241331596789}"
      ]
     },
     "execution_count": 17,
     "metadata": {},
     "output_type": "execute_result"
    }
   ],
   "source": [
    "validation(predicted_target_refit_val, y_test)"
   ]
  },
  {
   "cell_type": "code",
   "execution_count": null,
   "id": "51f6599c-f45e-485a-922a-981b955d059b",
   "metadata": {},
   "outputs": [],
   "source": []
  }
 ],
 "metadata": {
  "kernelspec": {
   "display_name": "Python 3 (ipykernel)",
   "language": "python",
   "name": "python3"
  },
  "language_info": {
   "codemirror_mode": {
    "name": "ipython",
    "version": 3
   },
   "file_extension": ".py",
   "mimetype": "text/x-python",
   "name": "python",
   "nbconvert_exporter": "python",
   "pygments_lexer": "ipython3",
   "version": "3.11.4"
  }
 },
 "nbformat": 4,
 "nbformat_minor": 5
}
