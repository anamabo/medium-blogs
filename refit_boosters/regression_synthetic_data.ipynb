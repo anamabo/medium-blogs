{
 "cells": [
  {
   "cell_type": "code",
   "execution_count": 1,
   "id": "fc9c72f6-effa-4de3-93e4-5340c2743f29",
   "metadata": {},
   "outputs": [],
   "source": [
    "import numpy as np\n",
    "import pandas as pd\n",
    "import lightgbm as lgb\n",
    "from sklearn.datasets import make_regression\n",
    "from sklearn.model_selection import train_test_split\n",
    "from sklearn.metrics import mean_squared_error, r2_score, mean_absolute_percentage_error\n",
    "from typing import Any, Dict, List, Optional, Tuple"
   ]
  },
  {
   "cell_type": "code",
   "execution_count": 2,
   "id": "cb054b95-d9f1-4f5f-b5a8-8b87095fc322",
   "metadata": {},
   "outputs": [],
   "source": [
    "random_seed = 42"
   ]
  },
  {
   "cell_type": "code",
   "execution_count": 3,
   "id": "6c956845-f6ee-49ac-bcbb-0a89664d633b",
   "metadata": {},
   "outputs": [],
   "source": [
    "# Generate a dataset with 250000 samples, 20 features, and some noise\n",
    "dataset, target = make_regression(n_samples=250000, n_features=20, n_informative=15, noise=0.1, random_state=random_seed,\n",
    "                                  bias=5.0)\n",
    "X = pd.DataFrame(dataset)\n",
    "X.columns = X.columns.astype(str)\n",
    "y = target"
   ]
  },
  {
   "cell_type": "code",
   "execution_count": 4,
   "id": "599ee6b0-c05b-4794-819e-b601fc3caab9",
   "metadata": {},
   "outputs": [],
   "source": [
    "def create_train_validation_test_sets(\n",
    "    X: pd.DataFrame, y: np.array\n",
    ") -> Tuple[pd.DataFrame, pd.DataFrame, pd.DataFrame, np.ndarray, np.ndarray, np.ndarray]:\n",
    "    \"\"\"\n",
    "    Split the dataset into training, valiidation and testing sets.\n",
    "    Args:\n",
    "        X (pd.DataFrame): Feature matrix.\n",
    "        y (pd.Series): Labels.\n",
    "        test_size (float): Proportion of the dataset to include in the test split.\n",
    "    Returns:\n",
    "        Tuple: \n",
    "        X_train, y_train: Training set (60%)\n",
    "        X_val, y_val: Validation set (20%)\n",
    "        X_test, y_test: Test set (20%)\n",
    "    \"\"\"\n",
    "    X_train, X_temp, y_train, y_temp = train_test_split(X, y, test_size=0.4, random_state=42, stratify=None)\n",
    "    X_val, X_test, y_val, y_test = train_test_split(X_temp, y_temp, test_size=0.5, random_state=42, stratify=None)\n",
    "    return X_train, X_val, X_test, y_train, y_val, y_test"
   ]
  },
  {
   "cell_type": "code",
   "execution_count": 5,
   "id": "e663ee67-e14f-4b38-a11f-2d832200cfdd",
   "metadata": {},
   "outputs": [],
   "source": [
    "X_train, X_val, X_test, y_train, y_val, y_test = create_train_validation_test_sets(X, y)"
   ]
  },
  {
   "cell_type": "code",
   "execution_count": 6,
   "id": "9f81caa8-c747-4984-ba2f-552a28e6c7c7",
   "metadata": {},
   "outputs": [],
   "source": [
    "def train_model(\n",
    "    X_train: pd.DataFrame, y_train: np.ndarray, categorical_features: list[str] = None\n",
    ") -> lgb.LGBMRegressor:\n",
    "    \"\"\"\n",
    "    Train a LightGBM regressor.\n",
    "    \"\"\"\n",
    "    lgbm = lgb.LGBMRegressor(objective=\"regression\", metric=\"l2\", random_state=random_seed)\n",
    "    lgbm.fit(\n",
    "        X_train,\n",
    "        y_train,\n",
    "        feature_name=X_train.columns.to_list(),\n",
    "        categorical_feature=categorical_features,\n",
    "        eval_metric=\"l2\"\n",
    "    )\n",
    "    return lgbm"
   ]
  },
  {
   "cell_type": "code",
   "execution_count": 7,
   "id": "690cc377-7a36-43a9-a549-c73504dfc431",
   "metadata": {},
   "outputs": [],
   "source": [
    "def refit_model(\n",
    "    X_train: pd.DataFrame, y_train: np.ndarray, init_model: lgb.LGBMClassifier, categorical_features: list[str] = None\n",
    ") -> lgb.LGBMClassifier:\n",
    "    \"\"\"\n",
    "    \"\"\"\n",
    "    lgbm_refit = lgb.LGBMRegressor(objective=\"regression\", metric=\"l2\", random_state=random_seed)\n",
    "    lgbm_refit.fit(\n",
    "        X_train,\n",
    "        y_train,\n",
    "        feature_name=X_train.columns.to_list(),\n",
    "        categorical_feature=categorical_features,\n",
    "        eval_metric=\"l2\",\n",
    "        init_model=init_model\n",
    "    )\n",
    "    return lgbm_refit"
   ]
  },
  {
   "cell_type": "code",
   "execution_count": 8,
   "id": "09a2c149-8108-49dc-98a7-a21b0ca9dfae",
   "metadata": {},
   "outputs": [],
   "source": [
    "def validation(predicted_y: np.ndarray, y_true: np.ndarray) -> Dict[str, Any]:\n",
    "    \"\"\"\n",
    "    Evaluate classification performance with various metrics.\n",
    "\n",
    "    Args:\n",
    "        predicted_y (np.ndarray): Predicted target\n",
    "        y_true (np.ndarray): Ground truth.\n",
    "    Returns:\n",
    "        dict: A dictionary with metrics\n",
    "    \"\"\"\n",
    "    metrics = {\n",
    "        \"mse\": mean_squared_error(y_true, predicted_y),\n",
    "        \"r2\": r2_score(y_true, predicted_y)\n",
    "    }\n",
    "    return metrics"
   ]
  },
  {
   "cell_type": "markdown",
   "id": "8c60ffd8-dd00-461b-8675-ea02aa32dd6e",
   "metadata": {},
   "source": [
    "# Experiment 2:"
   ]
  },
  {
   "cell_type": "markdown",
   "id": "6eec06a1-c7b2-4483-901d-fde950f80e1c",
   "metadata": {},
   "source": [
    "## Part 1:\n",
    "1. Train a Regression model using train + validation sets.\n",
    "2. Evaluate using test set."
   ]
  },
  {
   "cell_type": "code",
   "execution_count": 9,
   "id": "c41db949-123c-4849-b7ab-9201880e1a71",
   "metadata": {},
   "outputs": [
    {
     "name": "stdout",
     "output_type": "stream",
     "text": [
      "[LightGBM] [Info] Auto-choosing col-wise multi-threading, the overhead of testing was 0.026067 seconds.\n",
      "You can set `force_col_wise=true` to remove the overhead.\n",
      "[LightGBM] [Info] Total Bins 5100\n",
      "[LightGBM] [Info] Number of data points in the train set: 200000, number of used features: 20\n",
      "[LightGBM] [Info] Start training from score 4.707040\n"
     ]
    }
   ],
   "source": [
    "lgbm = train_model(X_train=pd.concat([X_train, X_val]), y_train=np.concatenate([y_train, y_val]))"
   ]
  },
  {
   "cell_type": "code",
   "execution_count": 10,
   "id": "a5b60d8b-f9a2-4671-8006-cd51c557e758",
   "metadata": {},
   "outputs": [],
   "source": [
    "predicted_target_train_val= lgbm.predict(X_test)"
   ]
  },
  {
   "cell_type": "code",
   "execution_count": 11,
   "id": "39d48362-ad4a-4b49-b735-317d1b51bb29",
   "metadata": {},
   "outputs": [
    {
     "data": {
      "text/plain": [
       "{'mse': 2047.151040756386, 'r2': 0.9708126587891235}"
      ]
     },
     "execution_count": 11,
     "metadata": {},
     "output_type": "execute_result"
    }
   ],
   "source": [
    "validation(predicted_target_train_val, y_test)"
   ]
  },
  {
   "cell_type": "markdown",
   "id": "22a78775-afa8-4924-b7a0-c74d403431c8",
   "metadata": {},
   "source": [
    "## Part 2:\n",
    "1. Train model using train set\n",
    "2. retrain the model using validation sets.\n",
    "3. Evaluate using test set."
   ]
  },
  {
   "cell_type": "code",
   "execution_count": 12,
   "id": "2fb6f1e9-a0e2-43b3-9f95-01f05d556b7b",
   "metadata": {},
   "outputs": [
    {
     "name": "stdout",
     "output_type": "stream",
     "text": [
      "[LightGBM] [Info] Auto-choosing col-wise multi-threading, the overhead of testing was 0.017877 seconds.\n",
      "You can set `force_col_wise=true` to remove the overhead.\n",
      "[LightGBM] [Info] Total Bins 5100\n",
      "[LightGBM] [Info] Number of data points in the train set: 150000, number of used features: 20\n",
      "[LightGBM] [Info] Start training from score 5.074552\n"
     ]
    }
   ],
   "source": [
    "lgbm_train = train_model(X_train=X_train, y_train=y_train)"
   ]
  },
  {
   "cell_type": "code",
   "execution_count": 13,
   "id": "8a15b5d6-080a-4c6d-a2b8-9eaefd948d70",
   "metadata": {},
   "outputs": [],
   "source": [
    "predicted_target_train = lgbm_train.predict(X_test)"
   ]
  },
  {
   "cell_type": "code",
   "execution_count": 14,
   "id": "02580cf3-32ab-40ef-ac17-dc3a50d3d820",
   "metadata": {},
   "outputs": [
    {
     "data": {
      "text/plain": [
       "{'mse': 2078.161304588738, 'r2': 0.9703705286612069}"
      ]
     },
     "execution_count": 14,
     "metadata": {},
     "output_type": "execute_result"
    }
   ],
   "source": [
    "validation(predicted_target_train, y_test)"
   ]
  },
  {
   "cell_type": "code",
   "execution_count": 15,
   "id": "800d435c-a340-4f68-b947-db8cd57e3b61",
   "metadata": {},
   "outputs": [
    {
     "name": "stdout",
     "output_type": "stream",
     "text": [
      "[LightGBM] [Info] Auto-choosing col-wise multi-threading, the overhead of testing was 0.009967 seconds.\n",
      "You can set `force_col_wise=true` to remove the overhead.\n",
      "[LightGBM] [Info] Total Bins 5100\n",
      "[LightGBM] [Info] Number of data points in the train set: 50000, number of used features: 20\n"
     ]
    }
   ],
   "source": [
    "lgbm_refit_val = refit_model(X_train=X_val, y_train=y_val, init_model=lgbm_train)"
   ]
  },
  {
   "cell_type": "code",
   "execution_count": 16,
   "id": "86ff5dba-bd74-407d-ac72-b866d926c870",
   "metadata": {},
   "outputs": [],
   "source": [
    "predicted_target_refit_val= lgbm_refit_val.predict(X_test)"
   ]
  },
  {
   "cell_type": "code",
   "execution_count": 17,
   "id": "110f968f-8e39-460f-9697-5b8997f95e04",
   "metadata": {},
   "outputs": [
    {
     "data": {
      "text/plain": [
       "{'mse': 951.9842164776783, 'r2': 0.9864270453911224}"
      ]
     },
     "execution_count": 17,
     "metadata": {},
     "output_type": "execute_result"
    }
   ],
   "source": [
    "validation(predicted_target_refit_val, y_test)"
   ]
  },
  {
   "cell_type": "code",
   "execution_count": null,
   "id": "60c8b1d1-1658-45ae-8458-cc8dfbaf07f7",
   "metadata": {},
   "outputs": [],
   "source": []
  }
 ],
 "metadata": {
  "kernelspec": {
   "display_name": "Python 3 (ipykernel)",
   "language": "python",
   "name": "python3"
  },
  "language_info": {
   "codemirror_mode": {
    "name": "ipython",
    "version": 3
   },
   "file_extension": ".py",
   "mimetype": "text/x-python",
   "name": "python",
   "nbconvert_exporter": "python",
   "pygments_lexer": "ipython3",
   "version": "3.11.4"
  }
 },
 "nbformat": 4,
 "nbformat_minor": 5
}
