{
 "cells": [
  {
   "cell_type": "code",
   "id": "initial_id",
   "metadata": {
    "ExecuteTime": {
     "end_time": "2025-04-04T08:43:04.169244Z",
     "start_time": "2025-04-04T08:43:01.403163Z"
    }
   },
   "source": [
    "import certifi\n",
    "import ssl\n",
    "import requests\n",
    "import matplotlib.pyplot as plt\n",
    "import pandas as pd\n",
    "import numpy as np\n",
    "import torch\n",
    "import sys\n",
    "import os\n",
    "from einops import rearrange\n",
    "from gluonts.dataset.multivariate_grouper import MultivariateGrouper\n",
    "from gluonts.dataset.pandas import PandasDataset\n",
    "from gluonts.dataset.split import split\n",
    "from torch.onnx.symbolic_opset9 import tensor\n",
    "\n",
    "from uni2ts.eval_util.plot import plot_single, plot_next_multi\n",
    "from uni2ts.model.moirai import MoiraiForecast, MoiraiModule\n",
    "from uni2ts.model.moirai_moe import MoiraiMoEForecast, MoiraiMoEModule\n",
    "\n",
    "MODEL = \"moirai-moe\"  # model name: choose from {'moirai', 'moirai-moe'}"
   ],
   "outputs": [],
   "execution_count": 1
  },
  {
   "cell_type": "code",
   "id": "cf5b1f0a-6e62-4cb3-af41-42f89b9395ee",
   "metadata": {
    "ExecuteTime": {
     "end_time": "2025-04-04T08:43:06.834049Z",
     "start_time": "2025-04-04T08:43:06.831707Z"
    }
   },
   "source": [
    "sys.path.insert(1, os.path.join(os.path.dirname(os.getcwd()), \"scripts\") )\n",
    "\n",
    "root_path = os.path.dirname(os.getcwd())"
   ],
   "outputs": [],
   "execution_count": 2
  },
  {
   "cell_type": "markdown",
   "id": "05335e49-9719-4da9-9ff8-a59344f1251f",
   "metadata": {},
   "source": "#forecast with Moirai"
  },
  {
   "cell_type": "code",
   "id": "21db1735-1d2a-411d-ba4f-873dc2ef320c",
   "metadata": {
    "ExecuteTime": {
     "end_time": "2025-04-04T15:32:49.703739Z",
     "start_time": "2025-04-04T15:32:49.627933Z"
    }
   },
   "source": [
    "# First: Load dataframe\n",
    "\n",
    "df = pd.read_csv(os.path.join(root_path, \"data\", \"bitcoin_values.csv\"), parse_dates=True)\n",
    "\n",
    "df[\"date\"] = pd.to_datetime(df[\"date\"])\n",
    "df.set_index(\"date\", inplace=True)\n",
    "\n",
    "print(f\"total length: {df.shape[0]}\")\n",
    "print(df.columns)\n",
    "print(f\"time frequency: {df.index.diff()[1]}\")\n",
    "print(df.index[0], df.index[-1])\n",
    "df.plot(figsize=(12, 3))"
   ],
   "outputs": [
    {
     "name": "stdout",
     "output_type": "stream",
     "text": [
      "total length: 4581\n",
      "Index(['bitcoin_price'], dtype='object')\n",
      "time frequency: 1 days 00:00:00\n",
      "2009-01-03 00:00:00 2021-07-19 00:00:00\n"
     ]
    },
    {
     "data": {
      "text/plain": [
       "<Axes: xlabel='date'>"
      ]
     },
     "execution_count": 27,
     "metadata": {},
     "output_type": "execute_result"
    },
    {
     "data": {
      "text/plain": [
       "<Figure size 1200x300 with 1 Axes>"
      ],
      "image/png": "[encoded data removed]"
     },
     "metadata": {},
     "output_type": "display_data"
    }
   ],
   "execution_count": 27
  },
  {
   "cell_type": "code",
   "id": "19c66d72-885c-489d-bdf9-f949bc938164",
   "metadata": {
    "ExecuteTime": {
     "end_time": "2025-04-04T15:35:54.599193Z",
     "start_time": "2025-04-04T15:35:54.596182Z"
    }
   },
   "source": [
    "# create the train and test sets\n",
    "train_window = 12 * 365 # days\n",
    "prediction_window = 30  # days\n",
    "\n",
    "inp = {\n",
    "    \"target\": df[\"bitcoin_price\"].to_numpy()[:train_window],  # 11 years\n",
    "    \"start\": df.index[0].to_period(freq=\"H\"),\n",
    "}\n",
    "label = {\n",
    "    \"target\": df[\"bitcoin_price\"].to_numpy()[train_window:train_window+prediction_window],  # 7 days\n",
    "    \"start\": df.index[train_window].to_period(freq=\"H\"),\n",
    "}\n",
    "print(train_window, \"days\")"
   ],
   "outputs": [
    {
     "name": "stdout",
     "output_type": "stream",
     "text": [
      "4380 days\n"
     ]
    }
   ],
   "execution_count": 35
  },
  {
   "cell_type": "code",
   "id": "e3fdd57b-6521-420e-ac7f-68c07d625f71",
   "metadata": {
    "ExecuteTime": {
     "end_time": "2025-04-04T15:35:57.664688Z",
     "start_time": "2025-04-04T15:35:57.659529Z"
    }
   },
   "source": [
    "# NOTE!!!!! This function assumes that  the time series has No null values and NO padding values.\n",
    "# If there are null values, plase, clean your TS first.\n",
    "\n",
    "def preprocess_data(target: np.array):\n",
    "\n",
    "    # 1. Reshape target values. Shape: (batch, time, variate)\n",
    "    # For 1D time series, batch =1, time = len(target), variate = 1\n",
    "    tensor_target = rearrange(\n",
    "        torch.as_tensor(target, dtype=torch.float32), \"t -> 1 t 1\"\n",
    "    )\n",
    "    #2. Create tensor whether there is a value or not.\n",
    "    # 1s if the value is observed, 0s otherwise. Shape: (batch, time, variate)\n",
    "    past_observed_target = torch.ones_like(tensor_target, dtype=torch.bool)\n",
    "    # 3. Tensor to say whether a value is padded or not.\n",
    "    # 1s if the value is padding, 0s otherwise. Shape: (batch, time)\n",
    "    past_padded_target = torch.zeros_like(tensor_target, dtype=torch.bool).squeeze(-1)\n",
    "    return tensor_target, past_observed_target, past_padded_target\n",
    "\n",
    "target_tensor, is_target_observed, is_target_padded= preprocess_data(target=inp[\"target\"])\n",
    "\n",
    "print(target_tensor.shape)\n",
    "print(is_target_observed.shape)\n",
    "print(is_target_padded.shape)\n"
   ],
   "outputs": [
    {
     "name": "stdout",
     "output_type": "stream",
     "text": [
      "torch.Size([1, 4380, 1])\n",
      "torch.Size([1, 4380, 1])\n",
      "torch.Size([1, 4380])\n"
     ]
    }
   ],
   "execution_count": 36
  },
  {
   "metadata": {
    "collapsed": false,
    "jupyter": {
     "outputs_hidden": false
    },
    "ExecuteTime": {
     "end_time": "2025-04-04T15:36:01.853969Z",
     "start_time": "2025-04-04T15:35:58.843550Z"
    }
   },
   "cell_type": "code",
   "source": [
    "# Prepare model\n",
    "prediction_window = len(label[\"target\"])\n",
    "context_window = len(inp[\"target\"])\n",
    "\n",
    "model = MoiraiMoEForecast(\n",
    "    module=MoiraiMoEModule.from_pretrained(f\"Salesforce/moirai-moe-1.0-R-small\"),\n",
    "    prediction_length= prediction_window,\n",
    "    context_length=context_window,\n",
    "    patch_size=16,\n",
    "    num_samples=100,\n",
    "    target_dim=1,\n",
    "    feat_dynamic_real_dim=0,\n",
    "    past_feat_dynamic_real_dim=0,\n",
    ")\n",
    "\n",
    "forecast = model(\n",
    "    past_target=target_tensor,\n",
    "    past_observed_target=is_target_observed,\n",
    "    past_is_pad=is_target_padded,\n",
    ")"
   ],
   "id": "9588774f669a4991",
   "outputs": [],
   "execution_count": 37
  },
  {
   "cell_type": "code",
   "id": "d65cfbf9-a7ac-4433-9f26-f544ed649136",
   "metadata": {
    "ExecuteTime": {
     "end_time": "2025-04-04T15:36:05.516774Z",
     "start_time": "2025-04-04T15:36:05.513376Z"
    }
   },
   "source": [
    "np.shape(forecast)"
   ],
   "outputs": [
    {
     "data": {
      "text/plain": [
       "torch.Size([1, 100, 30])"
      ]
     },
     "execution_count": 38,
     "metadata": {},
     "output_type": "execute_result"
    }
   ],
   "execution_count": 38
  },
  {
   "cell_type": "code",
   "id": "7dc23e4c9345c276",
   "metadata": {
    "collapsed": false,
    "jupyter": {
     "outputs_hidden": false
    },
    "ExecuteTime": {
     "end_time": "2025-04-04T15:36:07.801873Z",
     "start_time": "2025-04-04T15:36:07.797037Z"
    }
   },
   "source": [
    "median_prediction = np.round(np.median(forecast[0], axis=0), decimals=4)\n",
    "real_values = label[\"target\"]\n",
    "\n",
    "print(\"median prediction:\\n\", median_prediction)\n",
    "print(\"ground truth:\\n\", label[\"target\"])"
   ],
   "outputs": [
    {
     "name": "stdout",
     "output_type": "stream",
     "text": [
      "median prediction:\n",
      " [1.8605159e+13 1.8629077e+13 1.8625017e+13 1.8598731e+13 1.8622475e+13\n",
      " 1.8597152e+13 1.8636882e+13 1.8604800e+13 1.8611563e+13 1.8603158e+13\n",
      " 1.8612304e+13 1.8559942e+13 1.8653991e+13 1.8636530e+13 1.8605511e+13\n",
      " 1.8645355e+13 1.8618977e+13 1.8707917e+13 1.8558621e+13 1.8566821e+13\n",
      " 1.8700086e+13 1.8681740e+13 1.8661985e+13 1.8722058e+13 1.8552948e+13\n",
      " 1.8719871e+13 1.8529403e+13 1.8817550e+13 1.8692558e+13 1.8734148e+13]\n",
      "ground truth:\n",
      " [1.85995930e+13 1.85995930e+13 1.85995930e+13 1.85995930e+13\n",
      " 1.85995930e+13 1.85995930e+13 1.85995930e+13 1.85995930e+13\n",
      " 1.85995930e+13 1.93651667e+13 2.06074183e+13 2.06074183e+13\n",
      " 2.06074183e+13 2.06074183e+13 2.06074183e+13 2.06074183e+13\n",
      " 2.06074183e+13 2.06074183e+13 2.06074183e+13 2.06074183e+13\n",
      " 2.06074183e+13 2.06074183e+13 2.06074183e+13 2.07362548e+13\n",
      " 2.08235312e+13 2.08235312e+13 2.08235312e+13 2.08235312e+13\n",
      " 2.08235312e+13 2.08235312e+13]\n"
     ]
    }
   ],
   "execution_count": 39
  },
  {
   "metadata": {
    "ExecuteTime": {
     "end_time": "2025-04-04T15:36:08.617317Z",
     "start_time": "2025-04-04T15:36:08.613291Z"
    }
   },
   "cell_type": "code",
   "source": [
    "inf_prediction = np.percentile(forecast[0], 5, axis=0)\n",
    "sup_prediction = np.percentile(forecast[0], 95, axis=0)"
   ],
   "id": "5fa899e6cbf93e01",
   "outputs": [],
   "execution_count": 40
  },
  {
   "cell_type": "code",
   "id": "635918a9-d71d-4282-926f-fa42d39a3216",
   "metadata": {
    "ExecuteTime": {
     "end_time": "2025-04-04T15:36:09.784490Z",
     "start_time": "2025-04-04T15:36:09.729541Z"
    }
   },
   "source": [
    "# plot\n",
    "\n",
    "x = np.arange(0, len(median_prediction))\n",
    "\n",
    "fig1, ax = plt.subplots(nrows=1, ncols=1, figsize=(5, 5))\n",
    "ax.plot(x, median_prediction, \"g-\", label=\"median prediction\")\n",
    "ax.plot(x, label[\"target\"], \"b-\", label=\"ground truth\")\n",
    "ax.fill_between(\n",
    "    x,\n",
    "    inf_prediction,\n",
    "    sup_prediction,\n",
    "    color=\"gray\",\n",
    "    alpha=0.5,\n",
    "    label=\"prediction interval\",\n",
    ")\n",
    "ax.legend(loc=\"upper left\")\n",
    "plt.show()\n"
   ],
   "outputs": [
    {
     "data": {
      "text/plain": [
       "<Figure size 500x500 with 1 Axes>"
      ],
      "image/png": "[encoded data removed]"
     },
     "metadata": {},
     "output_type": "display_data"
    }
   ],
   "execution_count": 41
  },
  {
   "cell_type": "markdown",
   "id": "e7259925cf63f24c",
   "metadata": {
    "collapsed": false,
    "jupyter": {
     "outputs_hidden": false
    }
   },
   "source": [
    "<img src=\"img/rolling_eval.png\" alt=\"Drawing\" style=\"width: 800px;\"/>"
   ]
  },
  {
   "cell_type": "markdown",
   "id": "2a69890e7503d7f",
   "metadata": {
    "collapsed": false,
    "jupyter": {
     "outputs_hidden": false
    }
   },
   "source": [
    "As shown in the above plot, we use GluonTS to construct rolling window evaluation"
   ]
  },
  {
   "cell_type": "markdown",
   "id": "ceba84b34c0d5a1a",
   "metadata": {
    "collapsed": false,
    "jupyter": {
     "outputs_hidden": false
    }
   },
   "source": "## Rolling forecast using predictions"
  },
  {
   "cell_type": "code",
   "execution_count": null,
   "id": "b09e5d92-4a0f-45a1-a91e-5be145cdff4e",
   "metadata": {},
   "outputs": [],
   "source": []
  },
  {
   "metadata": {},
   "cell_type": "code",
   "outputs": [],
   "execution_count": null,
   "source": "",
   "id": "63162b53774c6902"
  },
  {
   "metadata": {},
   "cell_type": "code",
   "outputs": [],
   "execution_count": null,
   "source": "",
   "id": "ae68b76f632583de"
  },
  {
   "metadata": {},
   "cell_type": "code",
   "outputs": [],
   "execution_count": null,
   "source": "",
   "id": "d378fc95d72d60d"
  },
  {
   "metadata": {},
   "cell_type": "code",
   "outputs": [],
   "execution_count": null,
   "source": "",
   "id": "a3e7ee203eeff1f2"
  },
  {
   "metadata": {},
   "cell_type": "code",
   "outputs": [],
   "execution_count": null,
   "source": "",
   "id": "6dcb4868b835179d"
  }
 ],
 "metadata": {
  "kernelspec": {
   "display_name": "moirai-moe",
   "language": "python",
   "name": "moirai-moe"
  },
  "language_info": {
   "codemirror_mode": {
    "name": "ipython",
    "version": 3
   },
   "file_extension": ".py",
   "mimetype": "text/x-python",
   "name": "python",
   "nbconvert_exporter": "python",
   "pygments_lexer": "ipython3",
   "version": "3.12.9"
  }
 },
 "nbformat": 4,
 "nbformat_minor": 5
}
