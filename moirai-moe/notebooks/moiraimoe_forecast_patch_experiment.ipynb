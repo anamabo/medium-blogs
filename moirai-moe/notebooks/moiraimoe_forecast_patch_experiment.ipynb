{
 "cells": [
  {
   "cell_type": "code",
   "execution_count": 5,
   "id": "initial_id",
   "metadata": {
    "ExecuteTime": {
     "end_time": "2025-04-05T21:38:30.593736Z",
     "start_time": "2025-04-05T21:38:27.849526Z"
    }
   },
   "outputs": [],
   "source": [
    "import matplotlib.pyplot as plt\n",
    "import pandas as pd\n",
    "import sys\n",
    "import os\n",
    "import time\n",
    "from uni2ts.model.moirai_moe import MoiraiMoEForecast, MoiraiMoEModule\n",
    "\n",
    "\n",
    "MODEL_PARAMS = {\n",
    "\"patch_size\":16,  # 8, 16, 32, 64, 128\n",
    "\"num_samples\": 100,\n",
    "\"target_dim\": 1,\n",
    "\"feat_dynamic_real_dim\": 0,\n",
    "\"past_feat_dynamic_real_dim\": 0,\n",
    "}"
   ]
  },
  {
   "cell_type": "code",
   "execution_count": 2,
   "id": "cf5b1f0a-6e62-4cb3-af41-42f89b9395ee",
   "metadata": {
    "ExecuteTime": {
     "end_time": "2025-04-05T21:38:30.599558Z",
     "start_time": "2025-04-05T21:38:30.596463Z"
    }
   },
   "outputs": [],
   "source": [
    "sys.path.insert(1, os.path.join(os.path.dirname(os.getcwd()), \"scripts\") )\n",
    "\n",
    "from model_utils import generate_model_input, preprocess_data, get_predictions, plot_results, mean_absolute_percentage_error\n",
    "\n",
    "root_path = os.path.dirname(os.getcwd())"
   ]
  },
  {
   "cell_type": "markdown",
   "id": "05335e49-9719-4da9-9ff8-a59344f1251f",
   "metadata": {},
   "source": [
    "# Dataset 1"
   ]
  },
  {
   "cell_type": "code",
   "execution_count": 3,
   "id": "21db1735-1d2a-411d-ba4f-873dc2ef320c",
   "metadata": {
    "ExecuteTime": {
     "end_time": "2025-04-05T21:38:30.831289Z",
     "start_time": "2025-04-05T21:38:30.731837Z"
    }
   },
   "outputs": [
    {
     "name": "stdout",
     "output_type": "stream",
     "text": [
      "total length: 4581\n",
      "Index(['bitcoin_price'], dtype='object')\n",
      "time frequency: 1 days 00:00:00\n",
      "2009-01-03 00:00:00 2021-07-19 00:00:00\n"
     ]
    },
    {
     "data": {
      "text/plain": [
       "<Axes: xlabel='date'>"
      ]
     },
     "execution_count": 3,
     "metadata": {},
     "output_type": "execute_result"
    },
    {
     "data": {
      "image/png": "[encoded data removed]",
      "text/plain": [
       "<Figure size 1200x300 with 1 Axes>"
      ]
     },
     "metadata": {},
     "output_type": "display_data"
    }
   ],
   "source": [
    "# First: Load dataframe and clean it\n",
    "df = pd.read_csv(os.path.join(root_path, \"data\", \"bitcoin_values.csv\"), parse_dates=True)\n",
    "date_colname= \"date\"\n",
    "target_colname = \"bitcoin_price\"\n",
    "\n",
    "\n",
    "df[date_colname] = pd.to_datetime(df[date_colname])\n",
    "df.set_index(date_colname, inplace=True)\n",
    "\n",
    "\n",
    "print(f\"total length: {df.shape[0]}\")\n",
    "print(df.columns)\n",
    "print(f\"time frequency: {df.index.diff()[1]}\")\n",
    "print(df.index[0], df.index[-1])\n",
    "df.plot(figsize=(12, 3))"
   ]
  },
  {
   "cell_type": "code",
   "execution_count": 7,
   "id": "19c66d72-885c-489d-bdf9-f949bc938164",
   "metadata": {
    "ExecuteTime": {
     "end_time": "2025-04-05T21:39:50.593945Z",
     "start_time": "2025-04-05T21:38:30.875307Z"
    }
   },
   "outputs": [],
   "source": [
    "# create the train and test sets\n",
    "train_window = 12 * 365 # days\n",
    "prediction_window = 365  # days\n",
    "\n",
    "train = df.iloc[:train_window, :].copy()\n",
    "test = df.iloc[train_window:, :].copy()\n",
    "\n",
    "patches_list = [8, 16, 32, 64, 128]\n",
    "mape_list = []\n",
    "time_list = []\n",
    "for patch in patches_list:\n",
    "    start_time = time.time()\n",
    "    # preprocess the data\n",
    "    target_tensor, is_target_observed, is_target_padded= preprocess_data(target=train[target_colname].values)\n",
    "\n",
    "    MODEL_PARAMS[\"patch_size\"] = patch\n",
    "    # Define the model\n",
    "    model = MoiraiMoEForecast(\n",
    "        module=MoiraiMoEModule.from_pretrained(f\"Salesforce/moirai-moe-1.0-R-small\"),\n",
    "        prediction_length= prediction_window,\n",
    "        context_length=train_window,\n",
    "        **MODEL_PARAMS,\n",
    "    )\n",
    "\n",
    "    # Make the forecast\n",
    "    forecast = model(\n",
    "        past_target=target_tensor,\n",
    "        past_observed_target=is_target_observed,\n",
    "        past_is_pad=is_target_padded,\n",
    "    )\n",
    "\n",
    "    # Collect the median forecast and CI into a DataFrame\n",
    "    predictions_df = get_predictions(\n",
    "        forecast_tensor=forecast[0],\n",
    "        train_set=train,\n",
    "        date_colname=date_colname\n",
    "    )\n",
    "\n",
    "    # Merge predictions with original data\n",
    "    true_and_preds = pd.merge(test, predictions_df, left_index=True, right_index=True, how=\"right\")\n",
    "    all_data = pd.concat([train.iloc[-200:, :], true_and_preds])\n",
    "\n",
    "    true_and_preds.dropna(inplace=True)\n",
    "    mape = mean_absolute_percentage_error(\n",
    "        y_true=true_and_preds[target_colname].values,\n",
    "        y_pred=true_and_preds[\"median_forecast\"].values\n",
    "    )\n",
    "    end_time = time.time()\n",
    "    elapsed_time = end_time - start_time\n",
    "    mape_list.append(mape)\n",
    "    time_list.append(elapsed_time)"
   ]
  },
  {
   "cell_type": "code",
   "execution_count": 8,
   "id": "669a9359",
   "metadata": {},
   "outputs": [
    {
     "data": {
      "text/html": [
       "<div>\n",
       "<style scoped>\n",
       "    .dataframe tbody tr th:only-of-type {\n",
       "        vertical-align: middle;\n",
       "    }\n",
       "\n",
       "    .dataframe tbody tr th {\n",
       "        vertical-align: top;\n",
       "    }\n",
       "\n",
       "    .dataframe thead th {\n",
       "        text-align: right;\n",
       "    }\n",
       "</style>\n",
       "<table border=\"1\" class=\"dataframe\">\n",
       "  <thead>\n",
       "    <tr style=\"text-align: right;\">\n",
       "      <th></th>\n",
       "      <th>patch_size</th>\n",
       "      <th>mape</th>\n",
       "      <th>elapsed_time</th>\n",
       "    </tr>\n",
       "  </thead>\n",
       "  <tbody>\n",
       "    <tr>\n",
       "      <th>0</th>\n",
       "      <td>8</td>\n",
       "      <td>85.601334</td>\n",
       "      <td>458.805716</td>\n",
       "    </tr>\n",
       "    <tr>\n",
       "      <th>1</th>\n",
       "      <td>16</td>\n",
       "      <td>15.965839</td>\n",
       "      <td>72.203967</td>\n",
       "    </tr>\n",
       "    <tr>\n",
       "      <th>2</th>\n",
       "      <td>32</td>\n",
       "      <td>85.863040</td>\n",
       "      <td>7.457570</td>\n",
       "    </tr>\n",
       "    <tr>\n",
       "      <th>3</th>\n",
       "      <td>64</td>\n",
       "      <td>85.879407</td>\n",
       "      <td>2.369113</td>\n",
       "    </tr>\n",
       "    <tr>\n",
       "      <th>4</th>\n",
       "      <td>128</td>\n",
       "      <td>86.119206</td>\n",
       "      <td>1.409643</td>\n",
       "    </tr>\n",
       "  </tbody>\n",
       "</table>\n",
       "</div>"
      ],
      "text/plain": [
       "   patch_size       mape  elapsed_time\n",
       "0           8  85.601334    458.805716\n",
       "1          16  15.965839     72.203967\n",
       "2          32  85.863040      7.457570\n",
       "3          64  85.879407      2.369113\n",
       "4         128  86.119206      1.409643"
      ]
     },
     "execution_count": 8,
     "metadata": {},
     "output_type": "execute_result"
    }
   ],
   "source": [
    "mape_batch_size_df = pd.DataFrame(\n",
    "    {\"patch_size\": patches_list, \"mape\": mape_list, \"elapsed_time\": time_list}\n",
    ")\n",
    "mape_batch_size_df"
   ]
  },
  {
   "cell_type": "markdown",
   "id": "ceba84b34c0d5a1a",
   "metadata": {
    "collapsed": false,
    "jupyter": {
     "outputs_hidden": false
    }
   },
   "source": [
    "# Dataset 2"
   ]
  },
  {
   "cell_type": "code",
   "execution_count": 10,
   "id": "afaaaafe",
   "metadata": {},
   "outputs": [
    {
     "name": "stdout",
     "output_type": "stream",
     "text": [
      "total length: 1096\n",
      "Index(['electricity'], dtype='object')\n",
      "time frequency: 1 days 00:00:00\n",
      "2012-01-01 00:00:00 2014-12-31 00:00:00\n"
     ]
    },
    {
     "data": {
      "text/plain": [
       "<Axes: xlabel='date'>"
      ]
     },
     "execution_count": 10,
     "metadata": {},
     "output_type": "execute_result"
    },
    {
     "data": {
      "image/png": "[encoded data removed]",
      "text/plain": [
       "<Figure size 1200x300 with 1 Axes>"
      ]
     },
     "metadata": {},
     "output_type": "display_data"
    }
   ],
   "source": [
    "# First: Load dataframe and clean it\n",
    "df = pd.read_csv(os.path.join(root_path, \"data\", \"electricity_values.csv\"), parse_dates=True)\n",
    "date_colname= \"date\"\n",
    "target_colname = \"electricity\"\n",
    "\n",
    "\n",
    "df[date_colname] = pd.to_datetime(df[date_colname])\n",
    "df.set_index(date_colname, inplace=True)\n",
    "\n",
    "\n",
    "print(f\"total length: {df.shape[0]}\")\n",
    "print(df.columns)\n",
    "print(f\"time frequency: {df.index.diff()[1]}\")\n",
    "print(df.index[0], df.index[-1])\n",
    "df.plot(figsize=(12, 3))"
   ]
  },
  {
   "cell_type": "code",
   "execution_count": 12,
   "id": "4d163502",
   "metadata": {},
   "outputs": [],
   "source": [
    "# create the train and test sets\n",
    "train_window = 2 * 365 # days\n",
    "prediction_window = 365  # days\n",
    "\n",
    "train = df.iloc[:train_window, :].copy()\n",
    "test = df.iloc[train_window:, :].copy()\n",
    "\n",
    "patches_list = [8, 16, 32, 64, 128]\n",
    "mape_list = []\n",
    "time_list = []\n",
    "for patch in patches_list:\n",
    "    start_time = time.time()\n",
    "    # preprocess the data\n",
    "    target_tensor, is_target_observed, is_target_padded= preprocess_data(target=train[target_colname].values)\n",
    "\n",
    "    MODEL_PARAMS[\"patch_size\"] = patch\n",
    "    # Define the model\n",
    "    model = MoiraiMoEForecast(\n",
    "        module=MoiraiMoEModule.from_pretrained(f\"Salesforce/moirai-moe-1.0-R-small\"),\n",
    "        prediction_length= prediction_window,\n",
    "        context_length=train_window,\n",
    "        **MODEL_PARAMS,\n",
    "    )\n",
    "\n",
    "    # Make the forecast\n",
    "    forecast = model(\n",
    "        past_target=target_tensor,\n",
    "        past_observed_target=is_target_observed,\n",
    "        past_is_pad=is_target_padded,\n",
    "    )\n",
    "\n",
    "    # Collect the median forecast and CI into a DataFrame\n",
    "    predictions_df = get_predictions(\n",
    "        forecast_tensor=forecast[0],\n",
    "        train_set=train,\n",
    "        date_colname=date_colname\n",
    "    )\n",
    "\n",
    "    # Merge predictions with original data\n",
    "    true_and_preds = pd.merge(test, predictions_df, left_index=True, right_index=True, how=\"right\")\n",
    "    all_data = pd.concat([train.iloc[-200:, :], true_and_preds])\n",
    "\n",
    "    true_and_preds.dropna(inplace=True)\n",
    "    mape = mean_absolute_percentage_error(\n",
    "        y_true=true_and_preds[target_colname].values,\n",
    "        y_pred=true_and_preds[\"median_forecast\"].values\n",
    "    )\n",
    "    end_time = time.time()\n",
    "    elapsed_time = end_time - start_time\n",
    "    mape_list.append(mape)\n",
    "    time_list.append(elapsed_time)"
   ]
  },
  {
   "cell_type": "code",
   "execution_count": 13,
   "id": "8bccaf1e",
   "metadata": {},
   "outputs": [
    {
     "data": {
      "text/html": [
       "<div>\n",
       "<style scoped>\n",
       "    .dataframe tbody tr th:only-of-type {\n",
       "        vertical-align: middle;\n",
       "    }\n",
       "\n",
       "    .dataframe tbody tr th {\n",
       "        vertical-align: top;\n",
       "    }\n",
       "\n",
       "    .dataframe thead th {\n",
       "        text-align: right;\n",
       "    }\n",
       "</style>\n",
       "<table border=\"1\" class=\"dataframe\">\n",
       "  <thead>\n",
       "    <tr style=\"text-align: right;\">\n",
       "      <th></th>\n",
       "      <th>patch_size</th>\n",
       "      <th>mape</th>\n",
       "      <th>elapsed_time</th>\n",
       "    </tr>\n",
       "  </thead>\n",
       "  <tbody>\n",
       "    <tr>\n",
       "      <th>0</th>\n",
       "      <td>8</td>\n",
       "      <td>15.754340</td>\n",
       "      <td>25.040632</td>\n",
       "    </tr>\n",
       "    <tr>\n",
       "      <th>1</th>\n",
       "      <td>16</td>\n",
       "      <td>10.300696</td>\n",
       "      <td>6.726090</td>\n",
       "    </tr>\n",
       "    <tr>\n",
       "      <th>2</th>\n",
       "      <td>32</td>\n",
       "      <td>17.893305</td>\n",
       "      <td>3.788573</td>\n",
       "    </tr>\n",
       "    <tr>\n",
       "      <th>3</th>\n",
       "      <td>64</td>\n",
       "      <td>26.090480</td>\n",
       "      <td>1.361787</td>\n",
       "    </tr>\n",
       "    <tr>\n",
       "      <th>4</th>\n",
       "      <td>128</td>\n",
       "      <td>26.462870</td>\n",
       "      <td>0.953411</td>\n",
       "    </tr>\n",
       "  </tbody>\n",
       "</table>\n",
       "</div>"
      ],
      "text/plain": [
       "   patch_size       mape  elapsed_time\n",
       "0           8  15.754340     25.040632\n",
       "1          16  10.300696      6.726090\n",
       "2          32  17.893305      3.788573\n",
       "3          64  26.090480      1.361787\n",
       "4         128  26.462870      0.953411"
      ]
     },
     "execution_count": 13,
     "metadata": {},
     "output_type": "execute_result"
    }
   ],
   "source": [
    "mape_batch_size_df = pd.DataFrame(\n",
    "    {\"patch_size\": patches_list, \"mape\": mape_list, \"elapsed_time\": time_list}\n",
    ")\n",
    "mape_batch_size_df"
   ]
  },
  {
   "cell_type": "code",
   "execution_count": null,
   "id": "62878ab4",
   "metadata": {},
   "outputs": [],
   "source": []
  }
 ],
 "metadata": {
  "kernelspec": {
   "display_name": "Python 3",
   "language": "python",
   "name": "python3"
  },
  "language_info": {
   "codemirror_mode": {
    "name": "ipython",
    "version": 3
   },
   "file_extension": ".py",
   "mimetype": "text/x-python",
   "name": "python",
   "nbconvert_exporter": "python",
   "pygments_lexer": "ipython3",
   "version": "3.12.9"
  }
 },
 "nbformat": 4,
 "nbformat_minor": 5
}
